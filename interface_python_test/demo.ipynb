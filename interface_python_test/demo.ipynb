{
 "cells": [
  {
   "cell_type": "markdown",
   "id": "588fe0d7",
   "metadata": {},
   "source": [
    "<h1 align=\"center\"> <strong> XIOS Python Interface Demo </strong> </h1>"
   ]
  },
  {
   "cell_type": "markdown",
   "id": "6e1c46f2",
   "metadata": {},
   "source": [
    "This Notebook contains a demonstration of the XIOS Python interface features. \n",
    "Note that you must have the iodef.xml associated file in this curent directory to run this notebook"
   ]
  },
  {
   "cell_type": "markdown",
   "id": "444a1661",
   "metadata": {},
   "source": [
    "## **1. Necessary imports**"
   ]
  },
  {
   "cell_type": "code",
   "execution_count": 1,
   "id": "6f5f4046-fd62-486f-a4b4-6df1bcf50335",
   "metadata": {},
   "outputs": [
    {
     "name": "stdout",
     "output_type": "stream",
     "text": [
      "WARNING: release_mt library was used but no multi-ep feature was enabled. Please use release library instead.\n",
      "Library /lustre/fswork/projects/rech/psl/upu87pm/XIOS3/dev/xios4py/lib/libxios.so successfully loaded.\n"
     ]
    }
   ],
   "source": [
    "import xios\n",
    "import numpy as np"
   ]
  },
  {
   "cell_type": "markdown",
   "id": "3668b5e8-0f99-4e6c-a76c-e12a327fef7b",
   "metadata": {},
   "source": [
    "## **2. XIOS Initialization**"
   ]
  },
  {
   "cell_type": "code",
   "execution_count": 2,
   "id": "31a1ac32-e2d4-4410-936a-71e52aa20b0b",
   "metadata": {},
   "outputs": [],
   "source": [
    "xios.initialize('client')\n",
    "context = xios.Context('context')"
   ]
  },
  {
   "cell_type": "code",
   "execution_count": 5,
   "id": "4a5fcd2c-9392-4a52-bf69-6447fdf4dc41",
   "metadata": {},
   "outputs": [
    {
     "data": {
      "text/plain": [
       "<xios.idate.Date at 0x7fdce5aae7b0>"
      ]
     },
     "execution_count": 5,
     "metadata": {},
     "output_type": "execute_result"
    }
   ],
   "source": [
    "context.calendar.start_date"
   ]
  },
  {
   "cell_type": "markdown",
   "id": "ff7eeb81-a63a-47f8-8140-188e2cdbf77b",
   "metadata": {},
   "source": [
    "## **3. Calendar definition**"
   ]
  },
  {
   "cell_type": "code",
   "execution_count": 6,
   "id": "cb6bcf73-7787-40f9-b9c8-7cc06ba1143e",
   "metadata": {},
   "outputs": [],
   "source": [
    "context.calendar.timestep    = xios.Duration(second = 36000)"
   ]
  },
  {
   "cell_type": "code",
   "execution_count": 7,
   "id": "d18d97e5-571f-4b39-99d2-7b166f2bab9d",
   "metadata": {},
   "outputs": [
    {
     "data": {
      "text/plain": [
       "36000s"
      ]
     },
     "execution_count": 7,
     "metadata": {},
     "output_type": "execute_result"
    }
   ],
   "source": [
    "context.calendar.timestep"
   ]
  },
  {
   "cell_type": "code",
   "execution_count": 8,
   "id": "998e32ad-4f7d-40f9-be76-5b0e9cf5d0a6",
   "metadata": {},
   "outputs": [],
   "source": [
    "context.calendar.type = 'D360'"
   ]
  },
  {
   "cell_type": "markdown",
   "id": "f1f8652e-a4b6-46e3-8849-7090669aed3c",
   "metadata": {},
   "source": [
    "## **4. Attribute's setter and getter**"
   ]
  },
  {
   "cell_type": "code",
   "execution_count": 9,
   "id": "acb54ec8-e9ff-41bc-8d5a-8cd92933b443",
   "metadata": {},
   "outputs": [],
   "source": [
    "axis = xios.Axis('axis', comment = 'I am the comment')"
   ]
  },
  {
   "cell_type": "code",
   "execution_count": 10,
   "id": "d834e4b6-b075-417a-9036-6d0da55f12af",
   "metadata": {},
   "outputs": [
    {
     "data": {
      "text/plain": [
       "axis"
      ]
     },
     "execution_count": 10,
     "metadata": {},
     "output_type": "execute_result"
    }
   ],
   "source": [
    "axis.id"
   ]
  },
  {
   "cell_type": "code",
   "execution_count": 11,
   "id": "8af2d072-0d77-4f43-8cd2-14fb0356431c",
   "metadata": {},
   "outputs": [],
   "source": [
    "axis_g = xios.AxisGroup('axis_g')"
   ]
  },
  {
   "cell_type": "code",
   "execution_count": 12,
   "id": "1e39bd3c-5ee4-42dc-a9a0-a22064b6965b",
   "metadata": {},
   "outputs": [],
   "source": [
    "axis_child = axis_g.add_axis('axis_child')"
   ]
  },
  {
   "cell_type": "code",
   "execution_count": 13,
   "id": "af513422-f634-4a74-be5d-dbf542f3d018",
   "metadata": {},
   "outputs": [
    {
     "data": {
      "text/plain": [
       "'axis_child'"
      ]
     },
     "execution_count": 13,
     "metadata": {},
     "output_type": "execute_result"
    }
   ],
   "source": [
    "axis_child.id"
   ]
  },
  {
   "cell_type": "code",
   "execution_count": 14,
   "id": "2b7539db-ed55-4e08-b773-bb7970c7bad9",
   "metadata": {},
   "outputs": [],
   "source": [
    "scalar = xios.Scalar('scalar')"
   ]
  },
  {
   "cell_type": "code",
   "execution_count": 15,
   "id": "a37f704f-451f-442c-8723-ede4b5534e0a",
   "metadata": {},
   "outputs": [
    {
     "name": "stdout",
     "output_type": "stream",
     "text": [
      "axis value :  [ 100.  200.  300.  400.  500.  600.  700.  800.  900. 1000.]\n"
     ]
    }
   ],
   "source": [
    "print(\"axis value : \",axis.value)"
   ]
  },
  {
   "cell_type": "code",
   "execution_count": 16,
   "id": "4c02cd22-86f2-4270-aa79-8d035c791fb1",
   "metadata": {},
   "outputs": [
    {
     "name": "stdout",
     "output_type": "stream",
     "text": [
      "domain size =  60 * 20\n"
     ]
    }
   ],
   "source": [
    "domain = xios.Domain('domain')\n",
    "print(\"domain size = \", domain.ni_glo, \"*\", domain.nj_glo)"
   ]
  },
  {
   "cell_type": "code",
   "execution_count": 17,
   "id": "a47e4b7a-4e4f-4bce-aac8-e3e68351066f",
   "metadata": {},
   "outputs": [],
   "source": [
    "domain.lonvalue_1d = 360*np.arange(domain.ni_glo)/domain.ni_glo - 180\n",
    "domain.latvalue_1d = 180*np.arange(domain.nj_glo)/domain.nj_glo - 90"
   ]
  },
  {
   "cell_type": "markdown",
   "id": "a1d6b477-3163-43ff-953b-3ebf36883564",
   "metadata": {},
   "source": [
    "## **5. Close context definition**"
   ]
  },
  {
   "cell_type": "code",
   "execution_count": 18,
   "id": "7c1be0b9-672d-4112-ad30-308b39156c6c",
   "metadata": {},
   "outputs": [],
   "source": [
    "context.close_definition()"
   ]
  },
  {
   "cell_type": "code",
   "execution_count": 19,
   "id": "13eb704e-d67f-430c-b123-8a22dada06b2",
   "metadata": {},
   "outputs": [
    {
     "data": {
      "text/plain": [
       "D360"
      ]
     },
     "execution_count": 19,
     "metadata": {},
     "output_type": "execute_result"
    }
   ],
   "source": [
    "context.calendar.type"
   ]
  },
  {
   "cell_type": "code",
   "execution_count": 20,
   "id": "9820d58f-7e9f-4744-ad41-d7b85a093b87",
   "metadata": {},
   "outputs": [],
   "source": [
    "context.calendar.comment = 'hey'"
   ]
  },
  {
   "cell_type": "code",
   "execution_count": 21,
   "id": "78d782f7-b81e-41d7-9aef-8453fffc49d7",
   "metadata": {},
   "outputs": [
    {
     "data": {
      "text/plain": [
       "hey"
      ]
     },
     "execution_count": 21,
     "metadata": {},
     "output_type": "execute_result"
    }
   ],
   "source": [
    "context.calendar.comment"
   ]
  },
  {
   "cell_type": "code",
   "execution_count": 22,
   "id": "e46be44a-0f8a-4956-bb53-e59e7ce59ad7",
   "metadata": {},
   "outputs": [],
   "source": [
    "context.calendar.timestep = xios.Duration(second = 99)"
   ]
  },
  {
   "cell_type": "code",
   "execution_count": 23,
   "id": "703b7909-0343-426c-a969-a5006ae5f2d9",
   "metadata": {},
   "outputs": [
    {
     "data": {
      "text/plain": [
       "99s"
      ]
     },
     "execution_count": 23,
     "metadata": {},
     "output_type": "execute_result"
    }
   ],
   "source": [
    "context.calendar.timestep"
   ]
  },
  {
   "cell_type": "markdown",
   "id": "a53af4fa-9a33-4106-b9b7-ef909af1f7bb",
   "metadata": {},
   "source": [
    "## **6. Sending field**"
   ]
  },
  {
   "cell_type": "code",
   "execution_count": 13,
   "id": "07463525-91a1-4786-868d-0982120805c1",
   "metadata": {},
   "outputs": [],
   "source": [
    "nx, ny, nz = domain.ni_glo, domain.nj_glo, axis.n_glo\n",
    "x, y, z = np.indices((nx, ny, nz))\n",
    "def data(t):\n",
    "    center_shift = 20 * np.sin(2 * np.pi * t / 200)  \n",
    "    return np.sqrt((x - nx//2 - center_shift)**2 +\n",
    "                   (y - ny//2)**2 +\n",
    "                   (z - nz//2)**2)\n",
    "\n",
    "field = xios.Field('field')"
   ]
  },
  {
   "cell_type": "code",
   "execution_count": 14,
   "id": "f7786e29-b24a-42e4-b356-6ed5bdce6920",
   "metadata": {},
   "outputs": [],
   "source": [
    "for ts in range(200):\n",
    "   xios.update_calendar(ts)\n",
    "   field.send(data(ts))"
   ]
  },
  {
   "cell_type": "markdown",
   "id": "e74ade44-4892-4710-8c6f-a0962cb8248e",
   "metadata": {},
   "source": [
    "## **7. Context and XIOS finalization**"
   ]
  },
  {
   "cell_type": "code",
   "execution_count": 15,
   "id": "eccc876a-8e83-4ebd-9a18-88884b5ddb20",
   "metadata": {},
   "outputs": [
    {
     "name": "stdout",
     "output_type": "stream",
     "text": [
      "Server Context destructor\n"
     ]
    }
   ],
   "source": [
    "context.finalize()\n",
    "xios.finalize()"
   ]
  },
  {
   "cell_type": "markdown",
   "id": "bd10ce56-0524-46fb-9cfb-48ea59e5c7ef",
   "metadata": {},
   "source": [
    "## **8. Output vizualization** "
   ]
  },
  {
   "cell_type": "code",
   "execution_count": 1,
   "id": "e13b9ff1-4cdc-4b50-8d0f-ca8ac9b7a6c1",
   "metadata": {},
   "outputs": [
    {
     "ename": "KeyError",
     "evalue": "\"No variable named 'field'. Did you mean one of ('field06_src', 'field06_dst', 'field05_src', 'field05_dst', 'field04_src', 'field04_dst', 'field03_src', 'field03_dst', 'field02_src', 'field02_dst')?\"",
     "output_type": "error",
     "traceback": [
      "\u001b[0;31m---------------------------------------------------------------------------\u001b[0m",
      "\u001b[0;31mKeyError\u001b[0m                                  Traceback (most recent call last)",
      "\u001b[0;32m~/.local/lib/python3.11/site-packages/xarray/core/dataset.py\u001b[0m in \u001b[0;36m?\u001b[0;34m(self, name)\u001b[0m\n\u001b[1;32m   1154\u001b[0m             \u001b[0mvariable\u001b[0m \u001b[0;34m=\u001b[0m \u001b[0mself\u001b[0m\u001b[0;34m.\u001b[0m\u001b[0m_variables\u001b[0m\u001b[0;34m[\u001b[0m\u001b[0mname\u001b[0m\u001b[0;34m]\u001b[0m\u001b[0;34m\u001b[0m\u001b[0;34m\u001b[0m\u001b[0m\n\u001b[1;32m   1155\u001b[0m         \u001b[0;32mexcept\u001b[0m \u001b[0mKeyError\u001b[0m\u001b[0;34m:\u001b[0m\u001b[0;34m\u001b[0m\u001b[0;34m\u001b[0m\u001b[0m\n\u001b[0;32m-> 1156\u001b[0;31m             \u001b[0m_\u001b[0m\u001b[0;34m,\u001b[0m \u001b[0mname\u001b[0m\u001b[0;34m,\u001b[0m \u001b[0mvariable\u001b[0m \u001b[0;34m=\u001b[0m \u001b[0m_get_virtual_variable\u001b[0m\u001b[0;34m(\u001b[0m\u001b[0mself\u001b[0m\u001b[0;34m.\u001b[0m\u001b[0m_variables\u001b[0m\u001b[0;34m,\u001b[0m \u001b[0mname\u001b[0m\u001b[0;34m,\u001b[0m \u001b[0mself\u001b[0m\u001b[0;34m.\u001b[0m\u001b[0msizes\u001b[0m\u001b[0;34m)\u001b[0m\u001b[0;34m\u001b[0m\u001b[0;34m\u001b[0m\u001b[0m\n\u001b[0m\u001b[1;32m   1157\u001b[0m \u001b[0;34m\u001b[0m\u001b[0m\n",
      "\u001b[0;31mKeyError\u001b[0m: 'field'",
      "\nDuring handling of the above exception, another exception occurred:\n",
      "\u001b[0;31mKeyError\u001b[0m                                  Traceback (most recent call last)",
      "File \u001b[0;32m~/.local/lib/python3.11/site-packages/xarray/core/dataset.py:1261\u001b[0m, in \u001b[0;36mDataset.__getitem__\u001b[0;34m(self, key)\u001b[0m\n\u001b[1;32m   1260\u001b[0m \u001b[38;5;28;01mtry\u001b[39;00m:\n\u001b[0;32m-> 1261\u001b[0m     \u001b[38;5;28;01mreturn\u001b[39;00m \u001b[38;5;28;43mself\u001b[39;49m\u001b[38;5;241;43m.\u001b[39;49m\u001b[43m_construct_dataarray\u001b[49m\u001b[43m(\u001b[49m\u001b[43mkey\u001b[49m\u001b[43m)\u001b[49m\n\u001b[1;32m   1262\u001b[0m \u001b[38;5;28;01mexcept\u001b[39;00m \u001b[38;5;167;01mKeyError\u001b[39;00m \u001b[38;5;28;01mas\u001b[39;00m e:\n",
      "File \u001b[0;32m~/.local/lib/python3.11/site-packages/xarray/core/dataset.py:1156\u001b[0m, in \u001b[0;36mDataset._construct_dataarray\u001b[0;34m(self, name)\u001b[0m\n\u001b[1;32m   1155\u001b[0m \u001b[38;5;28;01mexcept\u001b[39;00m \u001b[38;5;167;01mKeyError\u001b[39;00m:\n\u001b[0;32m-> 1156\u001b[0m     _, name, variable \u001b[38;5;241m=\u001b[39m \u001b[43m_get_virtual_variable\u001b[49m\u001b[43m(\u001b[49m\u001b[38;5;28;43mself\u001b[39;49m\u001b[38;5;241;43m.\u001b[39;49m\u001b[43m_variables\u001b[49m\u001b[43m,\u001b[49m\u001b[43m \u001b[49m\u001b[43mname\u001b[49m\u001b[43m,\u001b[49m\u001b[43m \u001b[49m\u001b[38;5;28;43mself\u001b[39;49m\u001b[38;5;241;43m.\u001b[39;49m\u001b[43msizes\u001b[49m\u001b[43m)\u001b[49m\n\u001b[1;32m   1158\u001b[0m needed_dims \u001b[38;5;241m=\u001b[39m \u001b[38;5;28mset\u001b[39m(variable\u001b[38;5;241m.\u001b[39mdims)\n",
      "File \u001b[0;32m~/.local/lib/python3.11/site-packages/xarray/core/dataset_utils.py:79\u001b[0m, in \u001b[0;36m_get_virtual_variable\u001b[0;34m(variables, key, dim_sizes)\u001b[0m\n\u001b[1;32m     78\u001b[0m \u001b[38;5;28;01mif\u001b[39;00m \u001b[38;5;28mlen\u001b[39m(split_key) \u001b[38;5;241m!=\u001b[39m \u001b[38;5;241m2\u001b[39m:\n\u001b[0;32m---> 79\u001b[0m     \u001b[38;5;28;01mraise\u001b[39;00m \u001b[38;5;167;01mKeyError\u001b[39;00m(key)\n\u001b[1;32m     81\u001b[0m ref_name, var_name \u001b[38;5;241m=\u001b[39m split_key\n",
      "\u001b[0;31mKeyError\u001b[0m: 'field'",
      "\nThe above exception was the direct cause of the following exception:\n",
      "\u001b[0;31mKeyError\u001b[0m                                  Traceback (most recent call last)",
      "\u001b[0;32m/tmp/ipykernel_631704/1252672102.py\u001b[0m in \u001b[0;36m?\u001b[0;34m()\u001b[0m\n\u001b[1;32m      3\u001b[0m \u001b[0;32mfrom\u001b[0m \u001b[0mIPython\u001b[0m\u001b[0;34m.\u001b[0m\u001b[0mdisplay\u001b[0m \u001b[0;32mimport\u001b[0m \u001b[0mdisplay\u001b[0m\u001b[0;34m\u001b[0m\u001b[0;34m\u001b[0m\u001b[0m\n\u001b[1;32m      4\u001b[0m \u001b[0;32mimport\u001b[0m \u001b[0mmatplotlib\u001b[0m\u001b[0;34m.\u001b[0m\u001b[0mpyplot\u001b[0m \u001b[0;32mas\u001b[0m \u001b[0mplt\u001b[0m\u001b[0;34m\u001b[0m\u001b[0;34m\u001b[0m\u001b[0m\n\u001b[1;32m      5\u001b[0m \u001b[0;34m\u001b[0m\u001b[0m\n\u001b[1;32m      6\u001b[0m \u001b[0mds\u001b[0m \u001b[0;34m=\u001b[0m \u001b[0mxr\u001b[0m\u001b[0;34m.\u001b[0m\u001b[0mopen_dataset\u001b[0m\u001b[0;34m(\u001b[0m\u001b[0;34m\"dia_torc_to_tico_OceTemp_1stOrder.nc\"\u001b[0m\u001b[0;34m)\u001b[0m\u001b[0;34m\u001b[0m\u001b[0;34m\u001b[0m\u001b[0m\n\u001b[0;32m----> 7\u001b[0;31m \u001b[0mfield\u001b[0m \u001b[0;34m=\u001b[0m \u001b[0mds\u001b[0m\u001b[0;34m[\u001b[0m\u001b[0;34m\"field\"\u001b[0m\u001b[0;34m]\u001b[0m\u001b[0;34m\u001b[0m\u001b[0;34m\u001b[0m\u001b[0m\n\u001b[0m\u001b[1;32m      8\u001b[0m \u001b[0;34m\u001b[0m\u001b[0m\n\u001b[1;32m      9\u001b[0m \u001b[0;32mdef\u001b[0m \u001b[0mplot_slice\u001b[0m\u001b[0;34m(\u001b[0m\u001b[0mtime_idx\u001b[0m\u001b[0;34m=\u001b[0m\u001b[0;36m0\u001b[0m\u001b[0;34m,\u001b[0m \u001b[0maxis_idx\u001b[0m\u001b[0;34m=\u001b[0m\u001b[0;36m0\u001b[0m\u001b[0;34m)\u001b[0m\u001b[0;34m:\u001b[0m\u001b[0;34m\u001b[0m\u001b[0;34m\u001b[0m\u001b[0m\n\u001b[1;32m     10\u001b[0m     \u001b[0mslice_2d\u001b[0m \u001b[0;34m=\u001b[0m \u001b[0mfield\u001b[0m\u001b[0;34m.\u001b[0m\u001b[0misel\u001b[0m\u001b[0;34m(\u001b[0m\u001b[0mtime_counter\u001b[0m\u001b[0;34m=\u001b[0m\u001b[0mtime_idx\u001b[0m\u001b[0;34m,\u001b[0m \u001b[0maxis\u001b[0m\u001b[0;34m=\u001b[0m\u001b[0maxis_idx\u001b[0m\u001b[0;34m)\u001b[0m\u001b[0;34m\u001b[0m\u001b[0;34m\u001b[0m\u001b[0m\n",
      "\u001b[0;32m~/.local/lib/python3.11/site-packages/xarray/core/dataset.py\u001b[0m in \u001b[0;36m?\u001b[0;34m(self, key)\u001b[0m\n\u001b[1;32m   1270\u001b[0m \u001b[0;34m\u001b[0m\u001b[0m\n\u001b[1;32m   1271\u001b[0m                 \u001b[0;31m# If someone attempts `ds['foo' , 'bar']` instead of `ds[['foo', 'bar']]`\u001b[0m\u001b[0;34m\u001b[0m\u001b[0;34m\u001b[0m\u001b[0m\n\u001b[1;32m   1272\u001b[0m                 \u001b[0;32mif\u001b[0m \u001b[0misinstance\u001b[0m\u001b[0;34m(\u001b[0m\u001b[0mkey\u001b[0m\u001b[0;34m,\u001b[0m \u001b[0mtuple\u001b[0m\u001b[0;34m)\u001b[0m\u001b[0;34m:\u001b[0m\u001b[0;34m\u001b[0m\u001b[0;34m\u001b[0m\u001b[0m\n\u001b[1;32m   1273\u001b[0m                     \u001b[0mmessage\u001b[0m \u001b[0;34m+=\u001b[0m \u001b[0;34mf\"\\nHint: use a list to select multiple variables, for example `ds[{list(key)}]`\"\u001b[0m\u001b[0;34m\u001b[0m\u001b[0;34m\u001b[0m\u001b[0m\n\u001b[0;32m-> 1274\u001b[0;31m                 \u001b[0;32mraise\u001b[0m \u001b[0mKeyError\u001b[0m\u001b[0;34m(\u001b[0m\u001b[0mmessage\u001b[0m\u001b[0;34m)\u001b[0m \u001b[0;32mfrom\u001b[0m \u001b[0me\u001b[0m\u001b[0;34m\u001b[0m\u001b[0;34m\u001b[0m\u001b[0m\n\u001b[0m\u001b[1;32m   1275\u001b[0m \u001b[0;34m\u001b[0m\u001b[0m\n\u001b[1;32m   1276\u001b[0m         \u001b[0;32mif\u001b[0m \u001b[0mutils\u001b[0m\u001b[0;34m.\u001b[0m\u001b[0miterable_of_hashable\u001b[0m\u001b[0;34m(\u001b[0m\u001b[0mkey\u001b[0m\u001b[0;34m)\u001b[0m\u001b[0;34m:\u001b[0m\u001b[0;34m\u001b[0m\u001b[0;34m\u001b[0m\u001b[0m\n\u001b[1;32m   1277\u001b[0m             \u001b[0;32mreturn\u001b[0m \u001b[0mself\u001b[0m\u001b[0;34m.\u001b[0m\u001b[0m_copy_listed\u001b[0m\u001b[0;34m(\u001b[0m\u001b[0mkey\u001b[0m\u001b[0;34m)\u001b[0m\u001b[0;34m\u001b[0m\u001b[0;34m\u001b[0m\u001b[0m\n",
      "\u001b[0;31mKeyError\u001b[0m: \"No variable named 'field'. Did you mean one of ('field06_src', 'field06_dst', 'field05_src', 'field05_dst', 'field04_src', 'field04_dst', 'field03_src', 'field03_dst', 'field02_src', 'field02_dst')?\""
     ]
    }
   ],
   "source": [
    "import xarray as xr\n",
    "import ipywidgets as widgets\n",
    "from IPython.display import display\n",
    "import matplotlib.pyplot as plt\n",
    "\n",
    "ds = xr.open_dataset(\"output.nc\")\n",
    "field = ds[\"field\"]\n",
    "\n",
    "def plot_slice(time_idx=0, axis_idx=0):\n",
    "    slice_2d = field.isel(time_counter=time_idx, axis=axis_idx)\n",
    "    slice_2d.plot(cmap=\"plasma\")\n",
    "    plt.title(f\"field at time={time_idx}, axis={axis_idx}\")\n",
    "    plt.show()\n",
    "\n",
    "widgets.interact(plot_slice,\n",
    "                 time_idx=(0, field.sizes[\"time_counter\"] - 1),\n",
    "                 axis_idx=(0, field.sizes[\"axis\"] - 1))\n",
    "\n"
   ]
  },
  {
   "cell_type": "code",
   "execution_count": 2,
   "id": "f9a112ad-c20d-4e12-b785-f09e77d1e5b4",
   "metadata": {},
   "outputs": [
    {
     "data": {
      "application/vnd.jupyter.widget-view+json": {
       "model_id": "da392d055e154879b94e56949e101d0d",
       "version_major": 2,
       "version_minor": 0
      },
      "text/plain": [
       "interactive(children=(Dropdown(description='Field:', options=('field01_src', 'field02_src', 'field03_src', 'fi…"
      ]
     },
     "metadata": {},
     "output_type": "display_data"
    },
    {
     "data": {
      "text/plain": [
       "<function __main__.plot_field(field_name)>"
      ]
     },
     "execution_count": 2,
     "metadata": {},
     "output_type": "execute_result"
    }
   ],
   "source": [
    "import xarray as xr\n",
    "import ipywidgets as widgets\n",
    "from IPython.display import display\n",
    "import matplotlib.pyplot as plt\n",
    "\n",
    "# Load the dataset\n",
    "ds = xr.open_dataset(\"dia_torc_to_tico_OceTemp_1stOrder.nc\")\n",
    "\n",
    "# Collect field variable names\n",
    "field_names = [name for name in ds.data_vars if name.startswith(\"field\")]\n",
    "\n",
    "# Create a dropdown for fields\n",
    "field_dropdown = widgets.Dropdown(\n",
    "    options=field_names,\n",
    "    value=field_names[0],\n",
    "    description='Field:',\n",
    ")\n",
    "\n",
    "# Toggle for source/destination\n",
    "def plot_field(field_name):\n",
    "    field = ds[field_name]\n",
    "    \n",
    "    # Try to auto-detect correct lat/lon for plotting\n",
    "    if 'y_domain_src' in field.dims and 'x_domain_src' in field.dims:\n",
    "        lat = ds['nav_lat_domain_src']\n",
    "        lon = ds['nav_lon_domain_src']\n",
    "        coords = {'lat': lat, 'lon': lon}\n",
    "        field = field.assign_coords(coords)\n",
    "        field.plot(cmap=\"plasma\")\n",
    "    elif 'cell_domain_dst' in field.dims:\n",
    "        lat = ds['lat_domain_dst']\n",
    "        lon = ds['lon_domain_dst']\n",
    "        field = field.assign_coords({'cell': field['cell_domain_dst'], 'lat': lat, 'lon': lon})\n",
    "        plt.scatter(lon, lat, c=field, cmap='plasma', s=5)\n",
    "        plt.colorbar(label=field_name)\n",
    "        plt.xlabel(\"Longitude\")\n",
    "        plt.ylabel(\"Latitude\")\n",
    "        plt.title(field_name)\n",
    "    else:\n",
    "        print(\"Unrecognized grid layout.\")\n",
    "        return\n",
    "    \n",
    "    plt.show()\n",
    "\n",
    "# Create interactivity\n",
    "widgets.interact(plot_field, field_name=field_dropdown)\n"
   ]
  },
  {
   "cell_type": "code",
   "execution_count": null,
   "id": "751ad1c4-b95b-4098-95aa-3c60058fb091",
   "metadata": {},
   "outputs": [],
   "source": []
  },
  {
   "cell_type": "code",
   "execution_count": null,
   "id": "e8411f1d-b60a-41ba-bd26-f28376457316",
   "metadata": {},
   "outputs": [],
   "source": []
  },
  {
   "cell_type": "code",
   "execution_count": null,
   "id": "9cd45e24-53ed-4e75-99a4-9bafe1b28540",
   "metadata": {},
   "outputs": [],
   "source": []
  }
 ],
 "metadata": {
  "kernelspec": {
   "display_name": "XIOS_env",
   "language": "python",
   "name": "myenv"
  },
  "language_info": {
   "codemirror_mode": {
    "name": "ipython",
    "version": 3
   },
   "file_extension": ".py",
   "mimetype": "text/x-python",
   "name": "python",
   "nbconvert_exporter": "python",
   "pygments_lexer": "ipython3",
   "version": "3.11.9"
  }
 },
 "nbformat": 4,
 "nbformat_minor": 5
}
